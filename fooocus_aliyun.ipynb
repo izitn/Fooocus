!pip install pygit2==1.12.2
%cd /mnt/workspace
!git clone https://github.com/izitn/Fooocus.git #lllyasviel
%cd /mnt/workspace/Fooocus
!find . -type f -exec sed -i 's/huggingface.co/hf-mirror.com/g' {} \;
!python entry_with_update.py --share --preset none --language zh
